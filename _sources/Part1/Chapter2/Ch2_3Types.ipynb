{
 "cells": [
  {
   "cell_type": "markdown",
   "id": "b222bdbc",
   "metadata": {},
   "source": [
    "# 2.3 Types\n",
    "\n",
    "In programming, data has types, and that is because data to the computer is all numbers (ones and zeros). A type helps the computer determine how to handle the data, and helps your program use predefined concepts about that information.  \n",
    "\n",
    "## Types\n",
    "\n",
    "In the first chapter, we introduced three types of data that you will work with in your programs. Two of the types are numerical fixed values, while the third type is string sequential value. They are `int`, `float`, and `str`. What does that exactly mean for each?\n",
    "\n",
    "* **int**: A whole number (no decimal)  \n",
    "* **float**: a floating point number (has a decimal)\n",
    "* **str**: a sequence of characters in order - essentially words but also includes special characters, numbers, etc\n",
    "\n",
    "```{note}\n",
    "You can use the `type()` function to see the type.\n",
    "```"
   ]
  },
  {
   "cell_type": "code",
   "execution_count": 1,
   "id": "b455b648",
   "metadata": {},
   "outputs": [
    {
     "name": "stdout",
     "output_type": "stream",
     "text": [
      "11\n",
      "<class 'int'>\n"
     ]
    }
   ],
   "source": [
    "x = 11  \n",
    "print(x)\n",
    "print(type(x))"
   ]
  },
  {
   "cell_type": "markdown",
   "id": "bc8ac0f1",
   "metadata": {},
   "source": [
    "```{margin} Class?\n",
    "You may be wonder what the `<class>` part is about. They are covered in part 2 of this book, and are a way for someone to define their own types. \n",
    "```\n",
    "\n",
    "Adding a .0 to the 11 would make it a `float`"
   ]
  },
  {
   "cell_type": "code",
   "execution_count": 2,
   "id": "0dd7c6a0",
   "metadata": {},
   "outputs": [
    {
     "name": "stdout",
     "output_type": "stream",
     "text": [
      "11.0\n",
      "<class 'float'>\n"
     ]
    }
   ],
   "source": [
    "x = 11.0\n",
    "print(x)\n",
    "print(type(x))"
   ]
  },
  {
   "cell_type": "markdown",
   "id": "145e4506",
   "metadata": {},
   "source": [
    "Also, if you perform a division operation, and int will become a float!"
   ]
  },
  {
   "cell_type": "code",
   "execution_count": 3,
   "id": "5dc8cabc",
   "metadata": {},
   "outputs": [
    {
     "name": "stdout",
     "output_type": "stream",
     "text": [
      "<class 'int'>\n",
      "<class 'float'>\n",
      "5.0\n"
     ]
    }
   ],
   "source": [
    "x = 10\n",
    "print(type(x))\n",
    "z = x / 2\n",
    "print(type(z))\n",
    "print(z)"
   ]
  },
  {
   "cell_type": "markdown",
   "id": "d098cf63",
   "metadata": {},
   "source": [
    "While this isn't a case to require an int, you could convert it back to int by using the `int()`."
   ]
  },
  {
   "cell_type": "code",
   "execution_count": 4,
   "id": "fa6bc2eb",
   "metadata": {},
   "outputs": [
    {
     "name": "stdout",
     "output_type": "stream",
     "text": [
      "<class 'int'>\n",
      "<class 'int'>\n",
      "5\n"
     ]
    }
   ],
   "source": [
    "x = 10\n",
    "print(type(x))\n",
    "z = int(x / 2)\n",
    "print(type(z))\n",
    "print(z) "
   ]
  },
  {
   "cell_type": "markdown",
   "id": "e2f5f02f",
   "metadata": {},
   "source": [
    "Notice the 5.0 turned to 5!\n",
    "\n",
    "What would happen do you think if we did all the above, but with x put to 11?"
   ]
  },
  {
   "cell_type": "code",
   "execution_count": 5,
   "id": "cc273b34",
   "metadata": {},
   "outputs": [
    {
     "name": "stdout",
     "output_type": "stream",
     "text": [
      "<class 'int'>\n",
      "<class 'int'>\n",
      "5\n"
     ]
    }
   ],
   "source": [
    "x = 11\n",
    "print(type(x))\n",
    "z = int(x / 2)\n",
    "print(type(z))\n",
    "print(z) "
   ]
  },
  {
   "cell_type": "markdown",
   "id": "e7ce4423",
   "metadata": {},
   "source": [
    "It *truncates* the value, meaning whatever is after the decimal point is removed. \n",
    "\n",
    "```{admonition} This is nice but...\n",
    ":class: important\n",
    "This is nice, but you may be thinking where will this matter. We will get to that, as with many algorithms we want whole numbers specifically. \n",
    "```\n",
    "\n",
    "## Introducing Boolean (bool)\n",
    "\n",
    "Computers are binary machines, meaning they \"yes\" or \"no\", \"on\" or \"off\", or more commonly stated as \"1\" or \"0\". This is called a {term}`Boolean` value. In python, we use boolean values all the time, as the words `True` and `False`.\n",
    "\n",
    "For example:"
   ]
  },
  {
   "cell_type": "code",
   "execution_count": 6,
   "id": "2cd02c5d",
   "metadata": {},
   "outputs": [
    {
     "name": "stdout",
     "output_type": "stream",
     "text": [
      "True\n",
      "False\n"
     ]
    }
   ],
   "source": [
    "value = True\n",
    "print(value)\n",
    "\n",
    "value = False\n",
    "print(value)"
   ]
  },
  {
   "cell_type": "markdown",
   "id": "9f0e7405",
   "metadata": {},
   "source": [
    "````{important}\n",
    "Case matters! `True` is valid, true is a variable name in python, so if you write the following code you would get an error\n",
    "```python\n",
    "value = true\n",
    "print(true)\n",
    "```\n",
    "\n",
    "This is an extremely common error when you were working with multiple languages, as in other languages it can be lowercase true. \n",
    "````\n",
    "\n",
    "This type in python is called the `bool` type, and like `int` and `float` you can convert a string or other value to a boolean."
   ]
  },
  {
   "cell_type": "code",
   "execution_count": 7,
   "id": "9ee8f139",
   "metadata": {},
   "outputs": [
    {
     "name": "stdout",
     "output_type": "stream",
     "text": [
      "True\n",
      "False\n"
     ]
    }
   ],
   "source": [
    "value = bool(\"True\")\n",
    "print(value)\n",
    "\n",
    "value = bool(0)\n",
    "print(value)"
   ]
  },
  {
   "cell_type": "markdown",
   "id": "faa8047b",
   "metadata": {},
   "source": [
    "However, for the most part you rarely need to convert except for reading in data from a file or client. Instead, you either simply type True or False or you end up using conditional operators, covered in the next section!\n",
    "\n",
    "### Types Covered Review\n",
    "\n",
    "As a reminder, here are the various types we have covered.\n",
    "\n",
    "| Type | Name | Description |  Example Code |\n",
    "| :-- | :-- | :-- |  :--: |\n",
    "| int | Integer | Whole number values (no decimal) |  `x = 10` |\n",
    "| float | Float | Floating point numbers (has decimal) | `x = 2.5` |\n",
    "| str | String | Sequence series of characters | `name = \"Ada\"` |\n",
    "| bool | Boolean | Binary type, of True and False | `answer = True` |\n",
    "\n",
    "\n",
    "\n",
    "\n",
    "## Type Hints for Functions\n",
    "\n",
    "While including the type of the value is not required in python, it is industry standard to include \"type hints\" when dealing with functions. These hints are written in the format\n",
    "\n",
    "```text\n",
    "parameter: type\n",
    "```\n",
    "\n",
    "For example, If we had a function that needs an int to work, we would write\n",
    "\n",
    "```python\n",
    "def my_func(value : int):\n",
    "    # do something\n",
    "    # returns nothing\n",
    "```\n",
    "\n",
    "You can also add a return value by adding the `-> type` before the colon at the end \n",
    "\n",
    "```python\n",
    "def my_fund2(value : int, pi : float, name : str) -> str:\n",
    "    #takes in three arguments\n",
    "    #returns a string\n",
    "```\n",
    "\n",
    "This does multiple things.\n",
    "\n",
    "1. Follows industry standard\n",
    "2. Allows type checking programs to double check your code for you\n",
    "3. Allows auto code completion utilities to help with docstring\n",
    "4. Most importantly, helps you to see exactly what is needed for each function without reading the full details!\n",
    "\n",
    "\n",
    "````{note}\n",
    "You can also use `None` to indicate nothing is being returned. For example\n",
    "```python\n",
    "def my_func(value : int) -> None:\n",
    "    # do something\n",
    "    # returns nothing\n",
    "```\n",
    "````\n",
    "\n",
    "Whenever you write a function, you should follow these four steps:\n",
    "\n",
    "* define\n",
    "* document\n",
    "* implement\n",
    "* test\n",
    "\n",
    "In the **define** stage, if we set our types for the function, we will have a clearer image going into all stages! For the rest of this book, we will include type hints in our example code. \n",
    "\n",
    "````{admonition} Thinking Deeper - Statically Typed vs. Dynamically Typed\n",
    ":class: Note\n",
    "\n",
    "Sometimes these types are explicit in languages such as java, c, c++, and these are called {term}`Statically Typed` languages. Meaning your code must only store that specific type in a variable. \n",
    "\n",
    "In java for example \n",
    "```java\n",
    "int x = 10;\n",
    "x = \"Hello\";\n",
    "```\n",
    "The code above is invalid, it would throw a syntax error when you compiled the program (even before you ran it!). \n",
    "\n",
    "However, python is a {term}`Dynamically Typed` which means the variable types are determined at run time, and they may even change during the execution of program.  \n",
    "\n",
    "In python, this is valid code\n",
    "```python\n",
    "x = 10\n",
    "x = \"Hello\"\n",
    "```\n",
    "\n",
    "The variable x is first a number and then it is a string! This has advantages and disadvantages. To the programmer, we don't have to worry about adding types for every line of our program. It, however, can introduce runtime errors! \n",
    "\n",
    "While Dynamic vs Static typing is a common argument among language designers, what you need need to know now is **be careful**. Make sure you document, and define exactly what is expected and going on. This is especially true when dealing with function parameters. Identify what they are, so you know when you call the function both what it needs to work and what to expect on the return. \n",
    "\n",
    "````\n",
    "\n",
    "Now having a better understanding of types, and having introduced the Boolean type, we can talk about Conditional Statements!"
   ]
  }
 ],
 "metadata": {
  "jupytext": {
   "cell_metadata_filter": "-all",
   "formats": "md:myst",
   "text_representation": {
    "extension": ".md",
    "format_name": "myst",
    "format_version": 0.13,
    "jupytext_version": "1.11.5"
   }
  },
  "kernelspec": {
   "display_name": "Python 3",
   "language": "python",
   "name": "python3"
  },
  "language_info": {
   "codemirror_mode": {
    "name": "ipython",
    "version": 3
   },
   "file_extension": ".py",
   "mimetype": "text/x-python",
   "name": "python",
   "nbconvert_exporter": "python",
   "pygments_lexer": "ipython3",
   "version": "3.10.8"
  },
  "source_map": [
   14,
   31,
   35,
   43,
   47,
   51,
   57,
   61,
   67,
   72,
   78,
   92,
   98,
   112,
   118
  ]
 },
 "nbformat": 4,
 "nbformat_minor": 5
}