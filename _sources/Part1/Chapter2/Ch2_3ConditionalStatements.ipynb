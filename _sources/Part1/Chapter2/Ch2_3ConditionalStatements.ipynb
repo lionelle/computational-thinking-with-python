{
 "cells": [
  {
   "cell_type": "markdown",
   "id": "e5cbc9df",
   "metadata": {},
   "source": [
    "# 2.3 Conditional Operations\n",
    "\n",
    "In this section we will expand the number of our operations. In the past, we talked about typical math operations of `+`, `-`, `*`, `/` and `=` . Now we will look at expanding those options to include conditional statements. These statements generate True or False for the answer, also known as boolean values.\n",
    "\n",
    "\n",
    "## Boolean Values\n",
    "In python `True` and `False` is called a boolean value. Boolean meaning there are two options for the value, and they map directly to the idea that 1 is \"on\" or True, and 0 is \"off\" or False. You type them directly, and **case** matters! So true isn't the same as True."
   ]
  },
  {
   "cell_type": "code",
   "execution_count": 1,
   "id": "df837ae2",
   "metadata": {},
   "outputs": [
    {
     "name": "stdout",
     "output_type": "stream",
     "text": [
      "True\n"
     ]
    }
   ],
   "source": [
    "like_cats = True\n",
    "print(like_cats)"
   ]
  },
  {
   "cell_type": "markdown",
   "id": "8fab9037",
   "metadata": {},
   "source": [
    "Notice in the example, that we store True in the variable `like_cats`. True is typed as is without any quotes.\n",
    "\n",
    "We can also manually create a boolean value using the `bool()` function."
   ]
  },
  {
   "cell_type": "code",
   "execution_count": 2,
   "id": "8452436a",
   "metadata": {},
   "outputs": [
    {
     "name": "stdout",
     "output_type": "stream",
     "text": [
      "Do I like dogs? True, but do I also like cats? True\n"
     ]
    }
   ],
   "source": [
    "like_cats = bool(\"True\")\n",
    "like_dogs = bool(1)\n",
    "\n",
    "print(f\"Do I like dogs? {like_dogs}, but do I also like cats? {like_cats}\")"
   ]
  },
  {
   "cell_type": "markdown",
   "id": "f663dd44",
   "metadata": {},
   "source": [
    "In practice, `bool()` rarely gets used. Instead, True/False is typed, or conditional operations used!\n",
    "\n",
    "## Conditional Operations\n",
    "\n",
    "Python programmers can use the mathematical conditional operators directly in code. These conditions are requirements of making choices and branches in code, which makes them fundamental operations. The example operations with code are as follows.\n",
    "\n",
    "| Condition | Prose | Example | print(answer) |\n",
    "| -- | :-- | --: | :--: |\n",
    "| $a >  b$| is $a$ *greater than* $b$ | answer = 10 > 5 | True |\n",
    "| $a < b$ | is $a$ *less than* $b$ | age = 50 <br> answer = age < 100 | True|\n",
    "| $a >= b$  | is $a$ *greater than or equal to* $b$ | age = 42<br>meaning = 42<br> answer = age >= meaning| True |\n",
    "| $a <= b$  | is $a$ *less than or equal to* $b$ | answer = 5 <= 5| True |\n",
    "| $a == b$  | is $a$ *equal to* $b$ | meaning = 42<br>answer = meaning == 42| True |\n",
    "| $a$  $!=$  $b$  | is $a$ *not equal to* $b$ | meaning = 22<br>answer = meaning != 42| True |\n",
    "\n",
    "It is important to remember that conditional operators evaluate both sides of the statement based on the operator / operation type, and then a Boolean value is returned. You need to make sure the types are the same, or it can be a bit funny how it works. For example, if we are taking input in from a client, we need to convert that to a number before we run our comparison. \n",
    "\n",
    "```{code-block}\n",
    "val = input(\"How many puppies would you like to pet? \") ## assume the client enters 102\n",
    "```"
   ]
  },
  {
   "cell_type": "code",
   "execution_count": 3,
   "id": "deec7eb0",
   "metadata": {
    "tags": [
     "remove-cell"
    ]
   },
   "outputs": [],
   "source": [
    "val = 102"
   ]
  },
  {
   "cell_type": "code",
   "execution_count": 4,
   "id": "74313736",
   "metadata": {},
   "outputs": [
    {
     "name": "stdout",
     "output_type": "stream",
     "text": [
      "Are you completely crazy wanting more than 100 puppies? True, I want 102 puppies.\n"
     ]
    }
   ],
   "source": [
    "how_many_puppies = int(val)\n",
    "crazy_puppies = how_many_puppies >= 100\n",
    "print(f\"Are you completely crazy wanting more than 100 puppies? {crazy_puppies}, I want {how_many_puppies} puppies.\")"
   ]
  },
  {
   "cell_type": "markdown",
   "id": "26ef00bb",
   "metadata": {},
   "source": [
    "### Practice\n",
    "Your turn, let's practice writing a simple application. You can use the build in window below, or your own IDE to practice. \n",
    "\n",
    "```{admonition} Tasks\n",
    ":class: tip\n",
    "You are going to build application to see if the client knows  the answer to the ultimate question of life, the universe, and everything. If they type in 42 it informs them that it is True, if they type in anything else, it informs them their answer is False. \n",
    "\n",
    "- [ ] Request input from the client, asking them what is the \"answer to the ultimate question of life, the universe, and everything?\"\n",
    "- [ ] Convert that input to an int value\n",
    "- [ ] Compare that input to 42, only True if they entered 42, false if anything else\n",
    "- [ ] Print out \"Your answer is {answer}, and it is {checked}.\" assuming answer is the variable you stored their answer in, and checked is the outcome of the condition statement.\n",
    "\n",
    "If you get stuck, you should also click on the Solution Flowchart below. It may be able to help!\n",
    "```\n",
    "\n",
    "```{toggle}\n",
    "Don't forget to put a number into the stdin section, before hitting run!\n",
    "{{empty_code_window}}\n",
    "```\n",
    "\n",
    "#### Solution\n",
    "\n",
    "\n",
    "````{toggle}\n",
    "```python\n",
    "answer_str = input(\"What is the answer to the ultimate question of life, the universe, and everything? \")\n",
    "answer = int(answer_str)\n",
    "checked = answer == 42\n",
    "print(f\"Your answer is {answer}, and it is {checked}.\")\n",
    "```\n",
    "````\n",
    "##### Code Trace Solution\n",
    "```{toggle} \n",
    "Trace solution, assuming the client entered 22.\n",
    "<iframe width=\"800\" height=\"500\" frameborder=\"0\" src=\"https://pythontutor.com/iframe-embed.html#code=answer_str%20%3D%20input%28%22What%20is%20the%20answer%20to%20the%20ultimate%20question%20of%20life,%20the%20universe,%20and%20everything%3F%20%22%29%0Aanswer%20%3D%20int%28answer_str%29%0Achecked%20%3D%20answer%20%3D%3D%2042%0Aprint%28f%22Your%20answer%20is%20%7Banswer%7D,%20and%20it%20is%20%7Bchecked%7D.%22%29&codeDivHeight=400&codeDivWidth=350&cumulative=false&curInstr=0&heapPrimitives=nevernest&origin=opt-frontend.js&py=3&rawInputLstJSON=%5B%2222%22%5D&textReferences=false\"> </iframe>\n",
    "```\n",
    "\n",
    "##### Solution Flowchart\n",
    "````{toggle}\n",
    "```{mermaid}\n",
    "%%{init: {'securityLevel': 'loose', 'theme':'forest'}}%%\n",
    "flowchart TD\n",
    "   s([Start]) --> i[/What is.../]\n",
    "   i -- answer_str --> c[Convert to int]\n",
    "   c -- answer --> b[answer == 42]\n",
    "   b -- answer, checked --> o[/\"Your answer is {answer}, and it is {checked}.\"/]\n",
    "   o --> e([End]) \n",
    "```\n",
    "> Thinking Deeper:  \n",
    "> Why does this not use a diamond?  The reason is that while it calculates a condition, it doesn't actually branch into code options. \n",
    "> Spoiler, we will cover that in the next section!\n",
    "\n",
    "```{important}\n",
    "We added our variables or parameters to each step! This makes it even easier to go from a flowchart to code and back!\n",
    "```\n",
    "````\n",
    "\n",
    "## Conditions with Strings\n",
    "\n",
    "You can also use the conditional operators with strings. The problem is how would one compare strings? Using the Alphabet in order!  We also assume capitals before lowercase in our comparison. So `'a'` is less than `'b'`, but `'A'` is less than `'a'`."
   ]
  },
  {
   "cell_type": "code",
   "execution_count": 5,
   "id": "faca0a6d",
   "metadata": {},
   "outputs": [
    {
     "name": "stdout",
     "output_type": "stream",
     "text": [
      "Is \"Aa\" == \"Aa\"? True\n",
      "Is \"Aa\" == \"AC\"? False\n",
      "Is \"Aa\" > \"Ab\"? False\n",
      "Is 'A' < 'a'? True\n"
     ]
    }
   ],
   "source": [
    "one = \"Aa\" == \"Aa\"\n",
    "two = \"AB\" == \"AC\"\n",
    "three = \"Aa\" > \"Ab\"\n",
    "four = 'A'< 'a'\n",
    "\n",
    "print(f'Is \"Aa\" == \"Aa\"? {one}')\n",
    "print(f'Is \"Aa\" == \"AC\"? {two}')\n",
    "print(f'Is \"Aa\" > \"Ab\"? {three}')\n",
    "print(f\"Is 'A' < 'a'? {four}\")"
   ]
  },
  {
   "cell_type": "markdown",
   "id": "8597aa49",
   "metadata": {},
   "source": [
    "For the most part, we use `==` and `!=` when comparing strings. \n",
    "\n",
    "```{margin} Casefold?\n",
    "You will find .lower() is very common. That is not the most modern way of doing it, as .lower() can't take into account non-alphanumeric alphabets (greek cyrillic for example). Casefold takes that into account when setting up the characters for comparison. \n",
    "```\n",
    "\n",
    "````{admonition} Case Sensitive \n",
    ":class: note\n",
    "\n",
    "Most languages are case sensitive, meaning lowercase and uppercase are treated as different characters. Which they are, so that does make sense. However, sometimes we don't care about the case. Maybe we just want someone to type `\"END\"` or `\"end\"` or some combination. In this situation, we have to force the same case using `.casefold()` if we are using python 3.3 or later, or `.lower()` for older versions. \n",
    "\n",
    "\n",
    "````"
   ]
  },
  {
   "cell_type": "code",
   "execution_count": 6,
   "id": "26b19287",
   "metadata": {},
   "outputs": [
    {
     "name": "stdout",
     "output_type": "stream",
     "text": [
      "False\n",
      "True\n"
     ]
    }
   ],
   "source": [
    "one = \"Ada\"\n",
    "two = \"ada\"\n",
    "\n",
    "print(one == two)\n",
    "print(one.casefold() == two.casefold())"
   ]
  },
  {
   "cell_type": "markdown",
   "id": "ad2835a0",
   "metadata": {},
   "source": [
    "## Order of Operations\n",
    "\n",
    "We just added more operators, does that mean our order of operations changes from  PEMDAS? The answer is not really. PEDMAS still happens first, but then the *conditional* operators happen before the assignment operators! \n",
    "\n",
    "When in doubt, use parentheses. The following code is the same, but the second is  much more clear to read!"
   ]
  },
  {
   "cell_type": "code",
   "execution_count": 7,
   "id": "32e34f4f",
   "metadata": {},
   "outputs": [
    {
     "name": "stdout",
     "output_type": "stream",
     "text": [
      "False\n"
     ]
    }
   ],
   "source": [
    "val =  10 / 2.5 + 3 > 20 + 2 * 0.6\n",
    "print(val)"
   ]
  },
  {
   "cell_type": "code",
   "execution_count": 8,
   "id": "cddc483f",
   "metadata": {},
   "outputs": [
    {
     "name": "stdout",
     "output_type": "stream",
     "text": [
      "False\n"
     ]
    }
   ],
   "source": [
    "val =  ((10 / 2.5) + 3) > (20 + (2 * 0.6))\n",
    "print(val)"
   ]
  },
  {
   "cell_type": "markdown",
   "id": "a3d7aae5",
   "metadata": {},
   "source": [
    "## Branching?\n",
    "\n",
    "So far we have just introduced new operators that return `True` or `False` based on the condition. They can compare numbers and strings, but our goal was also to allow our code to execute conditionally - meaning, based on the condition, only certain lines are executed. We will explore that next. \n",
    "\n",
    "\n",
    "## Knowledge Check"
   ]
  }
 ],
 "metadata": {
  "jupytext": {
   "cell_metadata_filter": "-all",
   "formats": "md:myst",
   "text_representation": {
    "extension": ".md",
    "format_name": "myst",
    "format_version": 0.13,
    "jupytext_version": "1.11.5"
   }
  },
  "kernelspec": {
   "display_name": "Python 3",
   "language": "python",
   "name": "python3"
  },
  "language_info": {
   "codemirror_mode": {
    "name": "ipython",
    "version": 3
   },
   "file_extension": ".py",
   "mimetype": "text/x-python",
   "name": "python",
   "nbconvert_exporter": "python",
   "pygments_lexer": "ipython3",
   "version": "3.10.8"
  },
  "source_map": [
   14,
   24,
   27,
   33,
   38,
   60,
   65,
   69,
   132,
   142,
   159,
   165,
   173,
   178,
   181
  ]
 },
 "nbformat": 4,
 "nbformat_minor": 5
}