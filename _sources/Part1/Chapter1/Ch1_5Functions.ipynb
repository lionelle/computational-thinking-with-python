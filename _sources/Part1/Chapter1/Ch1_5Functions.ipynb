{
 "cells": [
  {
   "cell_type": "markdown",
   "id": "44971d27",
   "metadata": {},
   "source": [
    "# 1.5 Functions\n",
    "\n",
    "Writing code line by line is fine, but wouldn't it be a pain to always have to redo/retype stuff that is done? Also, it makes it difficult to isolate and test various tasks. Let's take the name example. Instead of just asking one person's age, maybe I am building a two player game that needs to ask all that four times. As such the code could be. \n",
    "\n",
    "```{code-block}\n",
    "print(\"Player 1\")\n",
    "born_year_str = input(\"What year were you born in? \")\n",
    "born_year = int(born_year_str)\n",
    "current_year_str = input(\"What year is it currently? \")\n",
    "current_year = int(current_year_str)\n",
    "age = current_year - born_year\n",
    "print(f\"My age in {current_year} is {age}.\")\n",
    "\n",
    "print(\"Player 2\")\n",
    "born_year_str = input(\"What year were you born in? \")\n",
    "born_year = int(born_year_str)\n",
    "current_year_str = input(\"What year is it currently? \")\n",
    "current_year = int(current_year_str)\n",
    "age = current_year - born_year\n",
    "print(f\"My age in {current_year} is {age}.\")\n",
    "```\n",
    "\n",
    "Wait, I meant to say \"Player age\". Ok, I only need to change that twice. What if we made it a four player game? What if we wanted it optional on the number of players? Now it starts getting complicated. \n",
    "\n",
    "Enter the generation of reusable code of using a {term}`Function`. While the use of reusable code was built up through multiple groups, we often thank the ENIAC Women [ref](https://spectrum.ieee.org/untold-history-of-ai-invisible-woman-programmed-americas-first-electronic-computer), [ref2](https://www.codecademy.com/resources/blog/eniac-six-women-programmed-computer/) who focused on developing reusable blocks that could be used on different projects. They also developed many of the sorts and algorithms we use today. However, [LISP](https://en.wikipedia.org/wiki/Lisp_(programming_language)) was the first functional programming language developed by [John McCarthy](https://en.wikipedia.org/wiki/John_McCarthy_(computer_scientist)) in 1958.\n",
    "\n",
    "The idea behind functions is that you have a block of code, that \n",
    "1. Can be repeated\n",
    "2. Can take in parameters \n",
    "3. Can return a value to be used\n",
    "\n",
    "A {term}`Parameter` is a value that gets passed into the function. It ends up becoming a variable that can be used. A return value is a value that gets passed out of the function. You have already been using both!\n",
    "\n",
    "## Built-In Functions \n",
    "\n",
    "You currently have already been using a few of Pythons built in functions. These functions someone else wrote, and you are given access to call the function (often called {term}`Invoke`) when you need to use its capabilities. We don't care how it works, just that it works as intended! Here are a few you have used.\n",
    "\n",
    "````{margin} \n",
    "  ```{admonition} None\n",
    "    :class: note\n",
    "    None is a keyword/type in python that means nothing or not defined. We will end up using\n",
    "    it a lot, but for now, just know, like everything in this book, we will come back to the concept.\n",
    "  ```\n",
    "````\n",
    "`print(value) -> None`\n",
    "  : You call this function to print the value to the screen. Value has been a variety of things, but every time you have \"passed\" in a value to the function. This value is the parameter for print to work. We say it returns `None` meaning there is nothing actually returned to store in a variable after the function is executed.\n",
    "\n",
    "`input(value) -> str`\n",
    "  : input function takes in an (optional) value, that prints to the screen you want the message to read. However, when you used input, you set it to a variable. When you did this, what you were really doing was setting the value **returned** to the variable. In the following example `quest` ends up being assigned the string value returned from the input function, which is the value someone types into the keyboard. \n",
    "    ```{code-block}\n",
    "    quest = input(\"What is your quest? \")\n",
    "    ```\n",
    "\n",
    "`int(value) -> int`\n",
    "  : the int function converts a string to an int value, so you can  perform mathematical operations. As such the parameter is a string, and it returns an int as long as the string matches a whole number style format. For example: `int(\"11\")` would work, `int(\"11.5\")` would cause an error.\n",
    "\n",
    "`float(value) -> float`\n",
    "  : A float is short for floating point number or decimal. The float function takes in a string that looks like a float, and converts it to a floating point value so you can perform mathematical functions. For float, *any* valid number  works fine, as you can also add a .0 to a whole number.  \n",
    "\n",
    "\n",
    "All four of these functions were written by someone else, so you don't have to write the code yourself. However, the real power of programming comes down to the ability for you to write your *own* functions!\n",
    "\n",
    "## Writing Functions\n",
    "\n",
    "A function in python has various parts. The basic format of a function is as follows:\n",
    "\n",
    "```python\n",
    "def name(parameters):  \n",
    "  \"\"\"docstring\"\"\"\n",
    "  #do something cool\n",
    "  return value\n",
    "```\n",
    "\n",
    "For example:"
   ]
  },
  {
   "cell_type": "code",
   "execution_count": 1,
   "id": "9be96257",
   "metadata": {},
   "outputs": [
    {
     "name": "stdout",
     "output_type": "stream",
     "text": [
      "The cat says meow.\n",
      "The dog says woof.\n"
     ]
    }
   ],
   "source": [
    "  def says(animal, sound):\n",
    "    return f\"The {animal} says {sound}.\"\n",
    "\n",
    "  cat_says = says(\"cat\", \"meow\")\n",
    "  dog_says = says(\"dog\", \"woof\")\n",
    "  print(cat_says)\n",
    "  print(dog_says)"
   ]
  },
  {
   "cell_type": "markdown",
   "id": "4aa0aa51",
   "metadata": {},
   "source": [
    "def name\n",
    "  : starting a line off with def, means define function. It tells the compiler the next block of code is going to be reusable. **Every** line after the def needs to be indented if it is part of the function as python uses indents to determine code blocks. The name is what you will call the function. It can be anything you want, as long as it starts with a letter, and isn't a reserved word. \n",
    "\n",
    "parameters\n",
    "  : this is optional, but often you have one or more parameters. For every parameter named, it ends up being a variable with a value in it! In the example, `animal` is a parameter that I can use directly as a variable. `sound` is a parameter that I use directly as a variable. We will code trace this example below\n",
    "\n",
    "return value\n",
    "  : the return keyword says \"give back this value\". This is critical, and setting the returned value to a variable `cat_says = says(\"cat, \"meow\")` is critical!\n",
    "\n",
    "docstring\n",
    "  : we will explore this below, but it is important to document what the function is doing!\n",
    "\n",
    "You have the basic parts, but let's trace the above function!\n",
    "\n",
    "### Trace The Code\n",
    "\n",
    "Following the code below, it is important to note that with the function call a new frame is created! This frame has a unique set of variables for that execution, and then it returns back to the global frame.\n",
    "\n",
    "<iframe width=\"800\" height=\"500\" frameborder=\"0\" src=\"https://pythontutor.com/iframe-embed.html#code=def%20says%28animal,%20sound%29%3A%0A%20%20return%20f%22The%20%7Banimal%7D%20says%20%7Bsound%7D.%22%0A%0Acat_says%20%3D%20says%28%22cat%22,%20%22meow%22%29%0Adog_says%20%3D%20says%28%22dog%22,%20%22woof%22%29%0Aprint%28cat_says%29%0Aprint%28dog_says%29&codeDivHeight=400&codeDivWidth=350&cumulative=false&curInstr=0&heapPrimitives=nevernest&origin=opt-frontend.js&py=3&rawInputLstJSON=%5B%5D&textReferences=false\"> </iframe>\n",
    "\n",
    "### Practice\n",
    "Now it is your turn to practice. \n",
    "\n",
    "```{admonition} Tasks\n",
    ":class: tip\n",
    "You will write a function and then call/invoke that function with different parameters.\n",
    "\n",
    "- [ ] Write a function that takes in two dates, current_year and birth_year \n",
    "- [ ] Return the persons age based on current_year and birth_year (no need to worry about months)\n",
    "- [ ] Call the function with the parameters 2022 and 1980, print out the result\n",
    "- [ ] Call the function with the parameters of 2023 and 1989, print out the results\n",
    "```\n",
    "\n",
    "\n",
    "Use the 'click to show' to get a code editor below.\n",
    "\n",
    "\n",
    "```{toggle} \n",
    "<iframe\n",
    " frameBorder=\"0\"\n",
    " height=\"450px\"  \n",
    " src=\"https://onecompiler.com/embed/python/3ym59u5qg?hideLanguageSelection=true&hideNewFileOption=true&hideTitle=true&hideNew=true&hideStdin=true\" \n",
    " width=\"100%\"\n",
    " ></iframe>\n",
    "```\n",
    "\n",
    "#### Solution"
   ]
  },
  {
   "cell_type": "code",
   "execution_count": 2,
   "id": "6a8795c3",
   "metadata": {
    "tags": [
     "hide-cell"
    ]
   },
   "outputs": [
    {
     "name": "stdout",
     "output_type": "stream",
     "text": [
      "42\n",
      "34\n"
     ]
    }
   ],
   "source": [
    "def calc_age(current_year, birth_year):\n",
    "  return current_year - birth_year\n",
    "\n",
    "age1 = calc_age(2022, 1980)\n",
    "age2 = calc_age(2023, 1989)\n",
    "\n",
    "print(age1)\n",
    "print(age2)"
   ]
  },
  {
   "cell_type": "markdown",
   "id": "0427e129",
   "metadata": {},
   "source": [
    "## Functions calling functions\n",
    "\n",
    "It is also possible to have a function call another function inside of it! For example, let's modify the above code to be:"
   ]
  },
  {
   "cell_type": "code",
   "execution_count": 3,
   "id": "47175a20",
   "metadata": {},
   "outputs": [
    {
     "name": "stdout",
     "output_type": "stream",
     "text": [
      "The cat says meow.\n",
      "The cat says meow.\n",
      "The dog says woof.\n",
      "The dog says woof.\n"
     ]
    }
   ],
   "source": [
    "def double_it(value: str) -> str:\n",
    "    \"\"\"Doubles a string value\n",
    "\n",
    "    Args:\n",
    "        value (str): The string to be doubled with \\\\n between the string\n",
    "\n",
    "    Returns:\n",
    "        str: value twice with a new line between\n",
    "    \"\"\"\n",
    "    return f\"{value}\\n{value}\"\n",
    "\n",
    "def dsays(animal : str, sound : str) -> str:\n",
    "    \"\"\"Takes and animal and sound, and returns a doubled version of the animal says.\n",
    "\n",
    "    Args:\n",
    "        animal (str): the animal\n",
    "        sound (str): the sound they make\n",
    "\n",
    "    Returns:\n",
    "        str: A doubled version of the saying \"The {animal} says {sound}.\"\n",
    "    \"\"\"\n",
    "    double = double_it(f\"The {animal} says {sound}.\")\n",
    "    return double\n",
    "\n",
    "cat_says = dsays(\"cat\", \"meow\")\n",
    "dog_says = dsays(\"dog\", \"woof\")\n",
    "print(cat_says)\n",
    "print(dog_says)"
   ]
  },
  {
   "cell_type": "markdown",
   "id": "7c975c08",
   "metadata": {},
   "source": [
    "### Trace The Code\n",
    "Trace the code above. Notice that the `dsays` frame is still open while `double_it()` is being called.\n",
    "\n",
    "\n",
    "<iframe width=\"800\" height=\"500\" frameborder=\"0\" src=\"https://pythontutor.com/iframe-embed.html#code=def%20double_it%28value%3A%20str%29%20-%3E%20str%3A%0A%20%20%20%20%22%22%22Doubles%20a%20string%20value%0A%0A%20%20%20%20Args%3A%0A%20%20%20%20%20%20%20%20value%20%28str%29%3A%20The%20string%20to%20be%20doubled%20with%20%5C%5Cn%20between%20the%20string%0A%0A%20%20%20%20Returns%3A%0A%20%20%20%20%20%20%20%20str%3A%20value%20twice%20with%20a%20new%20line%20between%0A%20%20%20%20%22%22%22%0A%20%20%20%20return%20f%22%7Bvalue%7D%5Cn%7Bvalue%7D%22%0A%0Adef%20dsays%28animal%20%3A%20str,%20sound%20%3A%20str%29%20-%3E%20str%3A%0A%20%20%20%20%22%22%22Takes%20and%20animal%20and%20sound,%20and%20returns%20a%20doubled%20version%20of%20the%20animal%20says.%0A%0A%20%20%20%20Args%3A%0A%20%20%20%20%20%20%20%20animal%20%28str%29%3A%20the%20animal%0A%20%20%20%20%20%20%20%20sound%20%28str%29%3A%20the%20sound%20they%20make%0A%0A%20%20%20%20Returns%3A%0A%20%20%20%20%20%20%20%20str%3A%20A%20doubled%20version%20of%20the%20saying%20%22The%20%7Banimal%7D%20says%20%7Bsound%7D.%22%0A%20%20%20%20%22%22%22%0A%20%20%20%20double%20%3D%20double_it%28f%22The%20%7Banimal%7D%20says%20%7Bsound%7D.%22%29%0A%20%20%20%20return%20double%0A%0Acat_says%20%3D%20dsays%28%22cat%22,%20%22meow%22%29%0Adog_says%20%3D%20dsays%28%22dog%22,%20%22woof%22%29%0Aprint%28cat_says%29%0Aprint%28dog_says%29&codeDivHeight=400&codeDivWidth=350&cumulative=false&curInstr=0&heapPrimitives=nevernest&origin=opt-frontend.js&py=3&rawInputLstJSON=%5B%5D&textReferences=false\"> </iframe>\n",
    "\n",
    "## Docstring\n",
    "\n",
    "````{margin}\n",
    "  ```{admonition} Google Style\n",
    "    :class: tip\n",
    "    In this book we will use the [Google Python Style Guide](https://google.github.io/styleguide/pyguide.html) \n",
    "    format for docstrings. Eventually, you will learn about tools like Sphinx.autodoc that can generate webpages \n",
    "    based on your docstrings for others to use your code.  \n",
    "    If you are using [VSCode](https://code.visualstudio.com/) there is an [extension](https://marketplace.visualstudio.com/items?itemName=njpwerner.autodocstring) for docstrings that defaults to google format. If you are using [PyCharm](https://www.jetbrains.com/pycharm/) the \n",
    "    docstring formatter is included, but you may need to go into preferences to make sure it uses google. \n",
    "\n",
    "    In both cases, you just simply define your function, type return/enter, and then three three quotation marks and enter. This will\n",
    "    automatically generate the base docstring formatting!\n",
    "````\n",
    "In the above example, we gave an extensive {term}`docstring` which is short for documentation string. It is a special formatted string using three double quotes immediately below the function definition. It is broken up into the various parts.\n",
    "\n",
    "```python\n",
    "\"\"\"Summary - can be multiple lines\n",
    "\n",
    "Example: \n",
    "  >>> some examples of execution \n",
    "  result of execution\n",
    "  >>> another example of execution\n",
    "  result of example\n",
    "\n",
    "Args:\n",
    "  Variable Name (type): Why it is needed\n",
    "  Variable Name (type): etc\n",
    "\n",
    "Returns:\n",
    "  (type): description about the value being returned. \n",
    "  You can have multiple lines explaining what to expect\n",
    "\"\"\"\n",
    "```\n",
    "The summary should provide what the function does in simple terms. It can be detailed and even highlight some of the steps as part of the process. While not common, for this course, you will include a section that includes expected input and output for the function. This will be used to help you test and debug functions that we talk about in the next section. **Example**, you will be putting in examples of what happen when that function is called. These actually double up as tests to confirm the validity of what you wrote. In **Args** you put in the name and type (optional) for each of your parameters. This is also called function arguments, thus the term \"Args\". **Returns** The return is important, so you know what is being returned. The type is optional, but good to put in there, so the person calling your function knows the type to expect. This section can have multiple lines to provide more details of the returned value.  \n",
    "\n",
    "Why is this formatting useful? It is actually possible to generate webpages, and this formatting is used on the [python language library](https://docs.python.org/3/library/index.html) to generate the entire website! Most importantly, you write docstrings so **you** know what you did (or least supposed to do) when you wrote the function and come back to it later!\n",
    "\n",
    "```{epigraph}\n",
    "Documenting functions is critical to programming, both on the job and in practice.\n",
    "```\n",
    "\n",
    "Additionally, if you put in the docstring, you can easily type to find out what a function does!"
   ]
  },
  {
   "cell_type": "code",
   "execution_count": 4,
   "id": "c7422c03",
   "metadata": {},
   "outputs": [
    {
     "name": "stdout",
     "output_type": "stream",
     "text": [
      "Help on function dsays in module __main__:\n",
      "\n",
      "dsays(animal: str, sound: str) -> str\n",
      "    Takes and animal and sound, and returns a doubled version of the animal says.\n",
      "    \n",
      "    Args:\n",
      "        animal (str): the animal\n",
      "        sound (str): the sound they make\n",
      "    \n",
      "    Returns:\n",
      "        str: A doubled version of the saying \"The {animal} says {sound}.\"\n",
      "\n"
     ]
    }
   ],
   "source": [
    "help(dsays)"
   ]
  },
  {
   "cell_type": "markdown",
   "id": "81a899dc",
   "metadata": {},
   "source": [
    "We can also print the doc using `__doc__`"
   ]
  },
  {
   "cell_type": "code",
   "execution_count": 5,
   "id": "356a8845",
   "metadata": {},
   "outputs": [
    {
     "name": "stdout",
     "output_type": "stream",
     "text": [
      "Takes and animal and sound, and returns a doubled version of the animal says.\n",
      "\n",
      "    Args:\n",
      "        animal (str): the animal\n",
      "        sound (str): the sound they make\n",
      "\n",
      "    Returns:\n",
      "        str: A doubled version of the saying \"The {animal} says {sound}.\"\n",
      "    \n"
     ]
    }
   ],
   "source": [
    "print(dsays.__doc__)"
   ]
  },
  {
   "cell_type": "markdown",
   "id": "3c325f29",
   "metadata": {},
   "source": [
    "This also works for built in functions"
   ]
  },
  {
   "cell_type": "code",
   "execution_count": 6,
   "id": "830aa37b",
   "metadata": {},
   "outputs": [
    {
     "name": "stdout",
     "output_type": "stream",
     "text": [
      "Help on built-in function print in module builtins:\n",
      "\n",
      "print(...)\n",
      "    print(value, ..., sep=' ', end='\\n', file=sys.stdout, flush=False)\n",
      "    \n",
      "    Prints the values to a stream, or to sys.stdout by default.\n",
      "    Optional keyword arguments:\n",
      "    file:  a file-like object (stream); defaults to the current sys.stdout.\n",
      "    sep:   string inserted between values, default a space.\n",
      "    end:   string appended after the last value, default a newline.\n",
      "    flush: whether to forcibly flush the stream.\n",
      "\n"
     ]
    }
   ],
   "source": [
    "help(print)"
   ]
  },
  {
   "cell_type": "markdown",
   "id": "34d339dd",
   "metadata": {},
   "source": [
    "As such, if you are unsure what a function does, if it has a docstring, you can quickly check! \n",
    "\n",
    "## Next Steps\n",
    "\n",
    "Between basic instructions and functions, you have a solid foundation to start writing simple programs. It will also help us start the major design thought for this class, **divide-conquer-glue**.\n",
    "\n",
    "\n",
    "## Knowledge Checks\n",
    "\n",
    "TO ADD"
   ]
  }
 ],
 "metadata": {
  "jupytext": {
   "cell_metadata_filter": "-all",
   "formats": "md:myst",
   "text_representation": {
    "extension": ".md",
    "format_name": "myst",
    "format_version": 0.13,
    "jupytext_version": "1.11.5"
   }
  },
  "kernelspec": {
   "display_name": "Python 3",
   "language": "python",
   "name": "python3"
  },
  "language_info": {
   "codemirror_mode": {
    "name": "ipython",
    "version": 3
   },
   "file_extension": ".py",
   "mimetype": "text/x-python",
   "name": "python",
   "nbconvert_exporter": "python",
   "pygments_lexer": "ipython3",
   "version": "3.10.8"
  },
  "source_map": [
   14,
   90,
   98,
   148,
   158,
   165,
   194,
   247,
   249,
   253,
   255,
   259,
   261
  ]
 },
 "nbformat": 4,
 "nbformat_minor": 5
}