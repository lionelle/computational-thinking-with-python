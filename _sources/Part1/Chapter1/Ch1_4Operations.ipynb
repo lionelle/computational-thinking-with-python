{
 "cells": [
  {
   "cell_type": "markdown",
   "id": "d8ffeb12",
   "metadata": {},
   "source": [
    "# 1.4 Basic Operators and Expressions\n",
    "\n",
    "Growing up we learn basic mathematical operations like addition, subtraction, multiplication, and division. For example, using basic math, we would look at the following statement:\n",
    "\n",
    "$ 40 + 2 $\n",
    "\n",
    "And say the answer is `42`. With computers, we need to store that answer in memory, so we are given the {term}`Assignment Operator`, the `=` sign! As such, if I want to store that value, I use the following\n",
    "\n",
    "```{code-block}\n",
    "meaning = 40+2\n",
    "```\n",
    "\n",
    "what we have is is the Expression 40+2, using the addition `+` operator, and then using the `=` we assign value to the variable `meaning`. Programming has the basic operators we learn growing up.\n",
    "\n",
    "| Operator | Name |\n",
    "| -- | -- |\n",
    "| + | Addition |\n",
    "| - | Subtraction |\n",
    "| * | Multiplication |\n",
    "| / | Division |\n",
    "| = | Assignment |\n",
    "\n",
    "You will note that `*` is multiplication, and not x that is because how would one distinguish a variable x from the operator x? As such, we have to use unique characters. \n",
    "\n",
    "```{note}\n",
    "Python uses {term}`PEMDAS` for order of evaluation.   \n",
    "  **P** - Parentheses  \n",
    "  **E** - Exponentiation  \n",
    "  **M** - Multiplication  \n",
    "  **D** - Division   \n",
    "  **A** - Addition  \n",
    "  **S** - Subtraction \n",
    "\n",
    "So parentheses get evaluated first, and so on down the line. Another way to remember is the mnemonic, \"Please Excuse My Dear Aunt Sally\".  With that said, if you are trying to figure out the order of evaluation for an expression, the simple answer is you probably\n",
    "can write it better by using parentheses. Always remember, clarity before brevity. \n",
    "```\n",
    "\n",
    "```{epigraph}\n",
    "Use parentheses when dealing with order of evaluation. Clarity before brevity!\n",
    "```\n",
    "\n",
    "````{margin}\n",
    "```{admonition} Naming Variables\n",
    "  :class: note\n",
    " You can name a variable whatever you want, as long as you follow these rules\n",
    " 1. A variable name must start with a letter or the underscore character. \n",
    " 2. A variable name can only contain alpha-number characters and underscores.\n",
    " 3. Names are case sensitive (Name and name are two different variables)\n",
    " 4. You may not use any of the reserved words. These are commands in python, and they are as follows.  \n",
    "  \n",
    "  |  |  |  |\n",
    "  |---|---|---|\n",
    "  | False | def | if | \n",
    "  |raise | None | del | \n",
    "  | import | return | True | \n",
    "  | elif | in | try |\n",
    "  | and | else | is | \n",
    "  | while | as | except | \n",
    "  | lambda | with | assert | \n",
    "  | finally | nonlocal | yield |\n",
    "  | break | for | not | \n",
    "  | class | from | or | \n",
    "  |continue | global | pass |\n",
    "\n",
    "````\n",
    "\n",
    "## Practice\n",
    "```{admonition} Tasks\n",
    ":class: tip\n",
    "Using the following programming window try the following. You should run after each task, not after all the lines!\n",
    "\n",
    "- [ ] Write a statement that assigns your name to the variable `name`. \n",
    "- [ ] Print out the your name as \"Hello, name\". With name using the variable. \n",
    "- [ ] Write a statement that assigns your age to the variable `age`. \n",
    "- [ ] Modify the previous print statement to say using the variables, \"I am name, and I am age years old.\".   \n",
    "      You may need to move the print statement, remember things are executed in order!\n",
    "- [ ] Modify the age assignment to be calculated by the current year, minus the year you were born, and then assign the answer to `age`.\n",
    "```\n",
    "\n",
    "Use the 'click to show' to get a code editor below.\n",
    "\n",
    "\n",
    "```{toggle} \n",
    "<iframe\n",
    " frameBorder=\"0\"\n",
    " height=\"450px\"  \n",
    " src=\"https://onecompiler.com/embed/python/3ym59u5qg?hideLanguageSelection=true&hideNewFileOption=true&hideTitle=true&hideNew=true&hideStdin=true\" \n",
    " width=\"100%\"\n",
    " ></iframe>\n",
    "```\n",
    "\n",
    "### Solution"
   ]
  },
  {
   "cell_type": "code",
   "execution_count": 1,
   "id": "6aad2c50",
   "metadata": {
    "tags": [
     "hide-cell"
    ]
   },
   "outputs": [
    {
     "name": "stdout",
     "output_type": "stream",
     "text": [
      "I am Trillian Astra, and I am 42 years old.\n"
     ]
    }
   ],
   "source": [
    "name = \"Trillian Astra\"\n",
    "age = 2022 - 1980\n",
    "print(f\"I am {name}, and I am {age} years old.\") # remember last section on f-string"
   ]
  },
  {
   "cell_type": "markdown",
   "id": "97eb6950",
   "metadata": {},
   "source": [
    "## Types\n",
    "\n",
    "Without knowing it, we have looked at **numeric** types and the **string** type. Anytime, you type in a number without quotes, you end up with a numeric. Let's look at string more. \n",
    "\n",
    "### String \n",
    "A string can be any sequence of characters (look at your keyboard, those are all characters). However, given that programming using a set syntax/grammar how would I know the variable `meaning` as compared to a string `meaning`? As such, most languages define using the quote or double character as defining a string. For example:"
   ]
  },
  {
   "cell_type": "code",
   "execution_count": 2,
   "id": "73cc07fa",
   "metadata": {},
   "outputs": [
    {
     "name": "stdout",
     "output_type": "stream",
     "text": [
      "42\n",
      "meaning\n"
     ]
    }
   ],
   "source": [
    "meaning = 42\n",
    "a_string = \"meaning\"\n",
    "\n",
    "print(meaning)\n",
    "print(a_string)"
   ]
  },
  {
   "cell_type": "markdown",
   "id": "1fc1e890",
   "metadata": {},
   "source": [
    "In python, you can use *either* the single quote `'` or the double quote `\"` to define a string, as long as you start and end with the same one! This helps us in cases like the following:"
   ]
  },
  {
   "cell_type": "code",
   "execution_count": 3,
   "id": "3d3dd30f",
   "metadata": {},
   "outputs": [
    {
     "name": "stdout",
     "output_type": "stream",
     "text": [
      "And he replied, \"As you wish.\"\n",
      "Isn't python cool?\n"
     ]
    }
   ],
   "source": [
    "quote = 'And he replied, \"As you wish.\"'\n",
    "conjunc = \"Isn't python cool?\"\n",
    "\n",
    "print(quote)\n",
    "print(conjunc)"
   ]
  },
  {
   "cell_type": "markdown",
   "id": "aa9d6ef0",
   "metadata": {},
   "source": [
    "In this book, we will most often use double quotes for strings with more than one character, and single quote for single character strings. While there are [style conventions](https://pep8.org/) for python, which type of quote to use is intentionally not defined in the style convention, other than pick one style and stick to it.\n",
    "\n",
    "#### Adding Strings - Concatenation  \n",
    "\n",
    "You can also add strings together called Concatenation. For example, let's take two strings."
   ]
  },
  {
   "cell_type": "code",
   "execution_count": 4,
   "id": "13a0dbc9",
   "metadata": {},
   "outputs": [],
   "source": [
    "first = \"Trillian\"\n",
    "last = \"Astra\""
   ]
  },
  {
   "cell_type": "markdown",
   "id": "433cf650",
   "metadata": {},
   "source": [
    "If I wanted to make a single variable I could do the following."
   ]
  },
  {
   "cell_type": "code",
   "execution_count": 5,
   "id": "854f831d",
   "metadata": {},
   "outputs": [
    {
     "name": "stdout",
     "output_type": "stream",
     "text": [
      "TrillianAstra\n"
     ]
    }
   ],
   "source": [
    "name = first + last\n",
    "print(name)"
   ]
  },
  {
   "cell_type": "markdown",
   "id": "e5606e69",
   "metadata": {},
   "source": [
    "```{error}\n",
    "Wait! That didn't work how I wanted!!\n",
    "```\n",
    "Did I specify a space between the two strings? No, I didn't, and  computer wouldn't know unless I am exact! As such to do the above properly, I should do the following."
   ]
  },
  {
   "cell_type": "code",
   "execution_count": 6,
   "id": "c85bdda1",
   "metadata": {},
   "outputs": [
    {
     "name": "stdout",
     "output_type": "stream",
     "text": [
      "Trillian Astra\n"
     ]
    }
   ],
   "source": [
    "name = first + ' ' + last  # the space is a single character string\n",
    "print(name)"
   ]
  },
  {
   "cell_type": "markdown",
   "id": "6790ad5e",
   "metadata": {},
   "source": [
    "##### Alternative to String Concatenation  - f-String\n",
    "\n",
    "You can use the format string (f-string) as a way to concatenate, especially if you know the exact pattern you want your string to look like."
   ]
  },
  {
   "cell_type": "code",
   "execution_count": 7,
   "id": "2b2d152b",
   "metadata": {},
   "outputs": [
    {
     "name": "stdout",
     "output_type": "stream",
     "text": [
      "Trillian Astra\n"
     ]
    }
   ],
   "source": [
    "name2 = f\"{first} {last}\"\n",
    "print(name2)"
   ]
  },
  {
   "cell_type": "markdown",
   "id": "145bcbdb",
   "metadata": {},
   "source": [
    "#### Special Characters\n",
    "````{margin} \n",
    "  ```{admonition} ASCII-Art   \n",
    "    ASCII-Art is has a long tradition in computer science, and even before dating back to the original printing presses. It is the art of using characters to build full pictures, and the modern emote is based off the same idea. ASCII is a standard used to convert numbers to characters for display on your screen. To see some examples of ascii-art, visit the [ASCII Art Archive](https://www.asciiart.eu/).\n",
    "  ```\n",
    "````\n",
    "\n",
    "There are a number of special hidden characters you use all the time. Tab and the newline character being the most common. In most languages, including python, they are represented by the `\\t` for tab, and `\\n` for the new line. This also means to represent the backslash, you have use `\\\\`. For example:"
   ]
  },
  {
   "cell_type": "code",
   "execution_count": 8,
   "id": "084b67d4",
   "metadata": {},
   "outputs": [
    {
     "name": "stdout",
     "output_type": "stream",
     "text": [
      "hello\n",
      "\tworld\n",
      "¯\\_(ツ)_/¯\n"
     ]
    }
   ],
   "source": [
    "line1 = \"hello\\n\"\n",
    "line2 = \"\\tworld\\n¯\\\\_(ツ)_/¯\"\n",
    "\n",
    "print(line1 + line2)"
   ]
  },
  {
   "cell_type": "markdown",
   "id": "3de78ee8",
   "metadata": {},
   "source": [
    "> Thinking deeper, the `print()` function adds `\\n` to the end of all your strings!\n",
    "\n",
    "\n",
    "\n",
    "#### Trace the Code Execution\n",
    "Use the toggle below to see the full code execution step by step. \n",
    "\n",
    "```{toggle} \n",
    "<iframe width=\"800\" height=\"500\" frameborder=\"0\" src=\"https://pythontutor.com/iframe-embed.html#code=first%20%3D%20%22Trillian%22%0Alast%20%3D%20%22Astra%22%0A%0Aname%20%3D%20first%20%2B%20last%0Aprint%28name%29%0A%0Aname%20%3D%20first%20%2B%20'%20'%20%2B%20last%0Aprint%28name%29%0A%0Aname2%20%3D%20f%22%7Bfirst%7D%20%7Blast%7D%22%0Aprint%28name2%29%0A%0Aline1%20%3D%20%22hello%5Cn%22%0Aline2%20%3D%20%22%5Ctworld%5Cn%C2%AF%5C%5C_%28%E3%83%84%29_/%C2%AF%22%0A%0Aprint%28line1%20%2B%20line2%29&codeDivHeight=400&codeDivWidth=350&cumulative=true&curInstr=0&origin=composingprograms.js&py=3&rawInputLstJSON=%5B%5D\"> </iframe>\n",
    "\n",
    "```\n",
    "\n",
    "## Introducing input()\n",
    "\n",
    "We have already given you function, the `print()` function, which displays text output onto the console/screen. However, what if we wanted to get information from our client, most notably, values from what they type on a keyboard? Python has the `input()` function. By default, it takes a message you want to display as a {term}`Parameter`, and it first calls `print()` with that message, and then waits for the client to type. When the client hits enter, the value is returned to your code so you can **store** it in a variable.  For example:\n",
    "\n",
    "```{code-block}\n",
    "name = input(\"What is your name? \")\n",
    "print(\"Nice to meet you, {name}.\")\n",
    "```\n",
    " \n",
    "Now run the code yourself! Change Ada Lovelace to your name in the STDIN block before clicking run.\n",
    "<iframe\n",
    " frameBorder=\"0\"\n",
    " height=\"450px\"  \n",
    " src=\"https://onecompiler.com/embed/python/3ym26kn3u?hideLanguageSelection=true&hideNewFileOption=true&hideTitle=true&hideNew=true\" \n",
    " width=\"100%\"\n",
    " ></iframe>\n",
    "\n",
    "```{admonition} Show Run Example:\n",
    ":class: tip\n",
    ":class: toggle\n",
    "\n",
    "![Run Greeting Example](../../fig/run_greeting.gif)\n",
    "```\n",
    "\n",
    " ```{warning}\n",
    " When looking at code through the browser based code window, newline returns end up getting removed. The above example may be better written it in an IDE or directly in the python interpreter to have a more interactive experience. \n",
    " ```\n",
    "\n",
    "## input() with numbers\n",
    "As a reminder, input returns a **string** which is not the same as a numeric type. So let's assume for the following input, someone enters $1980$ in the input below.\n",
    "\n",
    "```{code-block}\n",
    "born_year = input(\"What year were you born in? \")\n",
    "current_year = input(\"What year is it currently? \")\n",
    "```"
   ]
  },
  {
   "cell_type": "code",
   "execution_count": 9,
   "id": "925094ce",
   "metadata": {
    "tags": [
     "remove-cell"
    ]
   },
   "outputs": [],
   "source": [
    "born_year  = \"1980\"\n",
    "current_year = \"2022\""
   ]
  },
  {
   "cell_type": "code",
   "execution_count": 10,
   "id": "4ee65fb0",
   "metadata": {},
   "outputs": [
    {
     "ename": "TypeError",
     "evalue": "unsupported operand type(s) for -: 'str' and 'str'",
     "output_type": "error",
     "traceback": [
      "\u001b[1;31m---------------------------------------------------------------------------\u001b[0m",
      "\u001b[1;31mTypeError\u001b[0m                                 Traceback (most recent call last)",
      "Input \u001b[1;32mIn [10]\u001b[0m, in \u001b[0;36m<module>\u001b[1;34m\u001b[0m\n\u001b[1;32m----> 1\u001b[0m age \u001b[38;5;241m=\u001b[39m \u001b[43mcurrent_year\u001b[49m\u001b[43m \u001b[49m\u001b[38;5;241;43m-\u001b[39;49m\u001b[43m \u001b[49m\u001b[43mborn_year\u001b[49m\n\u001b[0;32m      2\u001b[0m \u001b[38;5;28mprint\u001b[39m(\u001b[38;5;124mf\u001b[39m\u001b[38;5;124m\"\u001b[39m\u001b[38;5;124mMy age in \u001b[39m\u001b[38;5;132;01m{\u001b[39;00mcurrent_year\u001b[38;5;132;01m}\u001b[39;00m\u001b[38;5;124m is \u001b[39m\u001b[38;5;132;01m{\u001b[39;00mage\u001b[38;5;132;01m}\u001b[39;00m\u001b[38;5;124m.\u001b[39m\u001b[38;5;124m\"\u001b[39m)\n",
      "\u001b[1;31mTypeError\u001b[0m: unsupported operand type(s) for -: 'str' and 'str'"
     ]
    }
   ],
   "source": [
    "age = current_year - born_year\n",
    "print(f\"My age in {current_year} is {age}.\")"
   ]
  },
  {
   "cell_type": "markdown",
   "id": "2b165f89",
   "metadata": {},
   "source": [
    "The error above is generated! This is because it doesn't make sense to subtract a string from a string, and `input()` always provides strings! For now we will learn to cast the string to `int()` if the input is supposed to be a whole number (no decimal places) or a `float()` for numbers with decimal places. As such, code above would be converted to the following:\n",
    "\n",
    "```{code-block}\n",
    "born_year_str = input(\"What year were you born in? \")\n",
    "born_year = int(born_year_str)\n",
    "current_year_str = input(\"What year is it currently? \")\n",
    "current_year = int(current_year_str)\n",
    "\n",
    "age = current_year - born_year\n",
    "print(f\"My age in {current_year} is {age}.\")\n",
    "```\n",
    "\n",
    "### Visualization\n",
    "<iframe width=\"800\" height=\"500\" frameborder=\"0\" src=\"https://pythontutor.com/iframe-embed.html#code=born_year_str%20%3D%20input%28%22What%20year%20were%20you%20born%20in%3F%20%22%29%0Aborn_year%20%3D%20int%28born_year_str%29%0Acurrent_year_str%20%3D%20input%28%22What%20year%20is%20it%20currently%3F%20%22%29%0Acurrent_year%20%3D%20int%28current_year_str%29%0A%0Aage%20%3D%20current_year%20-%20born_year%0Aprint%28f%22My%20age%20in%20%7Bcurrent_year%7D%20is%20%7Bage%7D.%22%29&codeDivHeight=400&codeDivWidth=350&cumulative=true&curInstr=0&origin=composingprograms.js&py=3&rawInputLstJSON=%5B%221980%22,%222022%22%5D\"> </iframe>\n",
    "\n",
    "For this visualization, the inputs are fixed to 1980 and 2022. If you wish to modify the input, you will need to open it up directly in [Python Tutor](https://pythontutor.com/render.html#code=born_year_str%20%3D%20input%28%22What%20year%20were%20you%20born%20in%3F%20%22%29%0Aborn_year%20%3D%20int%28born_year_str%29%0Acurrent_year_str%20%3D%20input%28%22What%20year%20is%20it%20currently%3F%20%22%29%0Acurrent_year%20%3D%20int%28current_year_str%29%0A%0Aage%20%3D%20current_year%20-%20born_year%0Aprint%28f%22My%20age%20in%20%7Bcurrent_year%7D%20is%20%7Bage%7D.%22%29&cumulative=false&curInstr=0&heapPrimitives=nevernest&mode=display&origin=opt-frontend.js&py=3&rawInputLstJSON=%5B%5D&textReferences=false).  \n",
    "\n",
    "### You Got This\n",
    "This is a lot! However, the more your practice, the better you will become. It is also important to think about dividing these problems into smaller chunks, which is why writing your own functions becomes fundamental!\n",
    "\n",
    "## Knowledge Checks \n",
    "\n",
    "TO ADD"
   ]
  }
 ],
 "metadata": {
  "jupytext": {
   "cell_metadata_filter": "-all",
   "formats": "md:myst",
   "text_representation": {
    "extension": ".md",
    "format_name": "myst",
    "format_version": 0.13,
    "jupytext_version": "1.11.5"
   }
  },
  "kernelspec": {
   "display_name": "Python 3",
   "language": "python",
   "name": "python3"
  },
  "language_info": {
   "codemirror_mode": {
    "name": "ipython",
    "version": 3
   },
   "file_extension": ".py",
   "mimetype": "text/x-python",
   "name": "python",
   "nbconvert_exporter": "python",
   "pygments_lexer": "ipython3",
   "version": "3.10.8"
  },
  "source_map": [
   14,
   108,
   113,
   122,
   128,
   132,
   138,
   146,
   149,
   153,
   156,
   163,
   166,
   172,
   175,
   186,
   191,
   241,
   247,
   250
  ]
 },
 "nbformat": 4,
 "nbformat_minor": 5
}